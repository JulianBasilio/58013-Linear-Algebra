{
  "nbformat": 4,
  "nbformat_minor": 0,
  "metadata": {
    "colab": {
      "provenance": [],
      "authorship_tag": "ABX9TyNGPW9q1vZr/+mmppyf29EC",
      "include_colab_link": true
    },
    "kernelspec": {
      "name": "python3",
      "display_name": "Python 3"
    },
    "language_info": {
      "name": "python"
    }
  },
  "cells": [
    {
      "cell_type": "markdown",
      "metadata": {
        "id": "view-in-github",
        "colab_type": "text"
      },
      "source": [
        "<a href=\"https://colab.research.google.com/github/JulianBasilio/58013-Linear-Algebra/blob/main/Python_Exercise10.ipynb\" target=\"_parent\"><img src=\"https://colab.research.google.com/assets/colab-badge.svg\" alt=\"Open In Colab\"/></a>"
      ]
    },
    {
      "cell_type": "code",
      "execution_count": 1,
      "metadata": {
        "id": "G02KvnNAC4-M"
      },
      "outputs": [],
      "source": [
        "import numpy as np\n",
        "import matplotlib.pyplot as plt"
      ]
    },
    {
      "cell_type": "code",
      "source": [
        "X = np.array([\n",
        "    [1,1,1],\n",
        "    [3,-2,-1],\n",
        "    [-1,4,2]\n",
        "], dtype=float)\n",
        "Y = np.array([\n",
        "    [1],\n",
        "    [4],\n",
        "    [-3]\n",
        "],dtype=float)\n",
        "print(X)\n",
        "print(X.shape)\n",
        "print(Y)\n",
        "print(Y.shape)\n"
      ],
      "metadata": {
        "colab": {
          "base_uri": "https://localhost:8080/"
        },
        "id": "wHARwHyQHwhz",
        "outputId": "5ce5a706-2e27-4af7-f465-de5aff55e9a6"
      },
      "execution_count": 4,
      "outputs": [
        {
          "output_type": "stream",
          "name": "stdout",
          "text": [
            "[[ 1.  1.  1.]\n",
            " [ 3. -2. -1.]\n",
            " [-1.  4.  2.]]\n",
            "(3, 3)\n",
            "[[ 1.]\n",
            " [ 4.]\n",
            " [-3.]]\n",
            "(3, 1)\n"
          ]
        }
      ]
    },
    {
      "cell_type": "code",
      "source": [
        "### Coding Activity\n",
        "### A= value of products\n",
        "A= [(\n",
        "    [30,10,120],\n",
        "    [40,20,200],\n",
        "    [50,40,360]\n",
        ")]\n",
        "dA= np.linalg.det(A)\n",
        "\n",
        "B= [([12500],\n",
        "    [18000],\n",
        "    [25700],\n",
        ")]\n",
        "A1= [(\n",
        "    [12500,10,120],\n",
        "    [18000,20,200],\n",
        "    [25700,40,360]\n",
        ")]\n",
        "\n",
        "A2= [(\n",
        "    [30,12500,120],\n",
        "    [40,18000,200],\n",
        "    [50,25700,360]\n",
        ")]\n",
        "\n",
        "A3= [(\n",
        "    [30,10,12500],\n",
        "    [40,20,18000],\n",
        "    [50,40,25700]\n",
        ")]\n",
        "dA1= np.linalg.det(A1)\n",
        "dA2= np.linalg.det(A2)\n",
        "dA3= np.linalg.det(A3)\n",
        "x= dA1+dA2+dA3\n",
        "\n",
        "flour= dA1/dA\n",
        "yeast= dA2/dA\n",
        "egg= dA3/dA\n",
        "\n",
        "print(\"The price of flour per sack is\",flour,\"pesos\")\n",
        "print(\"The price of yeast per pack is\",yeast,\"pesos\")\n",
        "print(\"The price of a piece of egg is\",egg,\"pesos\")\n"
      ],
      "metadata": {
        "colab": {
          "base_uri": "https://localhost:8080/"
        },
        "id": "yd9VFZSdFl2Z",
        "outputId": "903713be-f77f-47e3-a350-748f58d89de8"
      },
      "execution_count": 17,
      "outputs": [
        {
          "output_type": "stream",
          "name": "stdout",
          "text": [
            "The price of flour per sack is [330.] pesos\n",
            "The price of yeast per pack is [140.] pesos\n",
            "The price of a piece of egg is [10.] pesos\n"
          ]
        }
      ]
    }
  ]
}