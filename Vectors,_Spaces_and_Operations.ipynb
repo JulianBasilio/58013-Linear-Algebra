{
  "nbformat": 4,
  "nbformat_minor": 0,
  "metadata": {
    "colab": {
      "provenance": [],
      "authorship_tag": "ABX9TyNo1J8VvsGfNZ8fgM51X1q0",
      "include_colab_link": true
    },
    "kernelspec": {
      "name": "python3",
      "display_name": "Python 3"
    },
    "language_info": {
      "name": "python"
    }
  },
  "cells": [
    {
      "cell_type": "markdown",
      "metadata": {
        "id": "view-in-github",
        "colab_type": "text"
      },
      "source": [
        "<a href=\"https://colab.research.google.com/github/JulianBasilio/58013-Linear-Algebra/blob/main/Vectors%2C_Spaces_and_Operations.ipynb\" target=\"_parent\"><img src=\"https://colab.research.google.com/assets/colab-badge.svg\" alt=\"Open In Colab\"/></a>"
      ]
    },
    {
      "cell_type": "code",
      "execution_count": 4,
      "metadata": {
        "colab": {
          "base_uri": "https://localhost:8080/"
        },
        "id": "apN4R4uHg6p6",
        "outputId": "9753efeb-9c59-4771-b505-2b675caadf4f"
      },
      "outputs": [
        {
          "output_type": "stream",
          "name": "stdout",
          "text": [
            "Vector A is  [4 3]\n",
            "Vector B is  [ 2 -5]\n"
          ]
        }
      ],
      "source": [
        "import numpy as np\n",
        "A = np.array([4,3])\n",
        "B = np.array([2, -5])\n",
        "print('Vector A is ', A)\n",
        "print('Vector B is ', B)"
      ]
    },
    {
      "cell_type": "code",
      "source": [
        "#Side Dimension, Size\n",
        "import numpy as np\n",
        "ball1 = np.array([1,2,3])\n",
        "ball2 = np.array([0,1,-1])\n",
        "ball = np.array(ball1)\n",
        "balls= np.array(ball2)\n",
        "z= ball+balls\n",
        "print(z)\n",
        "\n",
        "\n"
      ],
      "metadata": {
        "colab": {
          "base_uri": "https://localhost:8080/"
        },
        "id": "PAL7pkN4jD_b",
        "outputId": "b975deed-b31d-49bd-f3bd-924b0d80b9ef"
      },
      "execution_count": 65,
      "outputs": [
        {
          "output_type": "stream",
          "name": "stdout",
          "text": [
            "[1 3 2]\n"
          ]
        }
      ]
    },
    {
      "cell_type": "code",
      "source": [
        "#Addition\n",
        "import numpy as np\n",
        "\n",
        "A = np.array([4,3])\n",
        "B = np.array([2,-5])\n",
        "R = np.add(A,B)\n",
        "print(R)"
      ],
      "metadata": {
        "colab": {
          "base_uri": "https://localhost:8080/"
        },
        "id": "iW_KYviAsMca",
        "outputId": "7a581f73-4446-4f34-cb58-463745e51a89"
      },
      "execution_count": 58,
      "outputs": [
        {
          "output_type": "stream",
          "name": "stdout",
          "text": [
            "[ 6 -2]\n"
          ]
        }
      ]
    },
    {
      "cell_type": "code",
      "source": [
        "#Subtraction\n",
        "R1 = np.subtract(A,B)\n",
        "print(R1)\n",
        "R2= np.subtract(B,A)\n",
        "print(R2)"
      ],
      "metadata": {
        "colab": {
          "base_uri": "https://localhost:8080/"
        },
        "id": "Kk7bR0UNt9_3",
        "outputId": "7a3680d3-d51c-4cc9-a8da-c86d3d4fc0ec"
      },
      "execution_count": 61,
      "outputs": [
        {
          "output_type": "stream",
          "name": "stdout",
          "text": [
            "[2 8]\n",
            "[-2 -8]\n"
          ]
        }
      ]
    },
    {
      "cell_type": "code",
      "source": [
        "#Scalar Product\n",
        "import numpy as np\n",
        "S = np.array([2])\n",
        "V = S*A\n",
        "print(V)"
      ],
      "metadata": {
        "colab": {
          "base_uri": "https://localhost:8080/"
        },
        "id": "gNkTjct0u_qv",
        "outputId": "a64b0c1a-731c-4b26-bb1a-6802d7487ef5"
      },
      "execution_count": 72,
      "outputs": [
        {
          "output_type": "stream",
          "name": "stdout",
          "text": [
            "[8 6]\n"
          ]
        }
      ]
    },
    {
      "cell_type": "code",
      "source": [
        "#Dot Product\n",
        "a= np.array([2])\n",
        "b= np.array([4])\n",
        "c= np.dot(a,b)\n",
        "print(c)"
      ],
      "metadata": {
        "colab": {
          "base_uri": "https://localhost:8080/"
        },
        "id": "w-6h_oCkwRVP",
        "outputId": "4218c7be-a13f-4270-8db9-803c660610d2"
      },
      "execution_count": 69,
      "outputs": [
        {
          "output_type": "stream",
          "name": "stdout",
          "text": [
            "8\n"
          ]
        }
      ]
    },
    {
      "cell_type": "code",
      "source": [
        "#Cross Product\n",
        "import numpy as np\n",
        "#initialize arrays\n",
        "W = np.array([2, 3])\n",
        "X = np.array([1, 7])\n",
        "#compute cross product\n",
        "output = np.cross(W, X)\n",
        "print(output)"
      ],
      "metadata": {
        "colab": {
          "base_uri": "https://localhost:8080/"
        },
        "id": "OZJ9AQC7y6FN",
        "outputId": "3a63d190-6bb9-41c9-96f9-3affa60260d0"
      },
      "execution_count": 87,
      "outputs": [
        {
          "output_type": "stream",
          "name": "stdout",
          "text": [
            "11\n"
          ]
        }
      ]
    },
    {
      "cell_type": "code",
      "source": [
        "#Property of Matrix\n",
        "#Identity Matrix\n",
        "c= np.eye(3,3)\n",
        "print(c)\n",
        "\n",
        "#Zero Matrix\n",
        "d= np.zeros([5,5])\n",
        "print(d)\n",
        "\n",
        "#Full Matrix\n",
        "e= np.full([3,3],7)\n",
        "print(e)\n",
        "\n",
        "#Transpose Matrix\n",
        "f= np.transpose(A)\n",
        "print(f)"
      ],
      "metadata": {
        "colab": {
          "base_uri": "https://localhost:8080/"
        },
        "id": "benjt4Nby6-q",
        "outputId": "de948e30-7d4b-481d-c179-dfb3020f298d"
      },
      "execution_count": 90,
      "outputs": [
        {
          "output_type": "stream",
          "name": "stdout",
          "text": [
            "[[1. 0. 0.]\n",
            " [0. 1. 0.]\n",
            " [0. 0. 1.]]\n",
            "[[0. 0. 0. 0. 0.]\n",
            " [0. 0. 0. 0. 0.]\n",
            " [0. 0. 0. 0. 0.]\n",
            " [0. 0. 0. 0. 0.]\n",
            " [0. 0. 0. 0. 0.]]\n",
            "[[7 7 7]\n",
            " [7 7 7]\n",
            " [7 7 7]]\n",
            "[2 3]\n"
          ]
        }
      ]
    }
  ]
}