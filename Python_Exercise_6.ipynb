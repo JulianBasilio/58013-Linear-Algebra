{
  "nbformat": 4,
  "nbformat_minor": 0,
  "metadata": {
    "colab": {
      "provenance": [],
      "authorship_tag": "ABX9TyPp+aP1jbryIcezlbOp5uei",
      "include_colab_link": true
    },
    "kernelspec": {
      "name": "python3",
      "display_name": "Python 3"
    },
    "language_info": {
      "name": "python"
    }
  },
  "cells": [
    {
      "cell_type": "markdown",
      "metadata": {
        "id": "view-in-github",
        "colab_type": "text"
      },
      "source": [
        "<a href=\"https://colab.research.google.com/github/JulianBasilio/58013-Linear-Algebra/blob/main/Python_Exercise_6.ipynb\" target=\"_parent\"><img src=\"https://colab.research.google.com/assets/colab-badge.svg\" alt=\"Open In Colab\"/></a>"
      ]
    },
    {
      "cell_type": "markdown",
      "source": [
        "Accessing a multidimensional list:"
      ],
      "metadata": {
        "id": "W5KeJxH1YObh"
      }
    },
    {
      "cell_type": "code",
      "execution_count": 1,
      "metadata": {
        "colab": {
          "base_uri": "https://localhost:8080/"
        },
        "id": "fwZYx3kzX7Zb",
        "outputId": "48b9a56d-7240-4b83-8e22-b9e5d7a9741e"
      },
      "outputs": [
        {
          "output_type": "stream",
          "name": "stdout",
          "text": [
            "[[2, 4, 6, 8, 10], [3, 6, 9, 12, 15], [4, 8, 12, 16, 20]]\n"
          ]
        }
      ],
      "source": [
        "# Python program to demonstrate printing\n",
        "# of complete multidimensional list\n",
        "a = [[2, 4, 6, 8, 10], [3, 6, 9, 12, 15], [4, 8, 12, 16, 20]]\n",
        "print(a)\n"
      ]
    },
    {
      "cell_type": "markdown",
      "source": [
        "Accessing with the help of loop."
      ],
      "metadata": {
        "id": "SAqyxdWBYMC5"
      }
    },
    {
      "cell_type": "code",
      "source": [
        "# Python program to demonstrate printing\n",
        "# of complete multidimensional list row\n",
        "# by row.\n",
        "a = [[2, 4, 6, 8, 10], [3, 6, 9, 12, 15], [4, 8, 12, 16, 20]]\n",
        "for record in a:\n",
        "    print(record)\n"
      ],
      "metadata": {
        "colab": {
          "base_uri": "https://localhost:8080/"
        },
        "id": "6ByewtzHYDs1",
        "outputId": "aaec06e0-f675-467d-dfdb-2ba0f522ec1e"
      },
      "execution_count": 2,
      "outputs": [
        {
          "output_type": "stream",
          "name": "stdout",
          "text": [
            "[2, 4, 6, 8, 10]\n",
            "[3, 6, 9, 12, 15]\n",
            "[4, 8, 12, 16, 20]\n"
          ]
        }
      ]
    },
    {
      "cell_type": "markdown",
      "source": [
        "Accessing using square brackets"
      ],
      "metadata": {
        "id": "r8NOCFc4YI9j"
      }
    },
    {
      "cell_type": "code",
      "source": [
        "# Python program to demonstrate that we\n",
        "# can access multidimensional list using\n",
        "# square brackets\n",
        "a = [ [2, 4, 6, 8 ],\n",
        "    [ 1, 3, 5, 7 ],\n",
        "    [ 8, 6, 4, 2 ],\n",
        "    [ 7, 5, 3, 1 ] ]\n",
        "\n",
        "for i in range(len(a)) :\n",
        "    for j in range(len(a[i])) :\n",
        "        print(a[i][j], end=\" \")\n",
        "    print()\n"
      ],
      "metadata": {
        "colab": {
          "base_uri": "https://localhost:8080/"
        },
        "id": "LWn94tj6YFpL",
        "outputId": "17c054c4-d96e-491b-ebaa-f546f2bb2804"
      },
      "execution_count": 3,
      "outputs": [
        {
          "output_type": "stream",
          "name": "stdout",
          "text": [
            "2 4 6 8 \n",
            "1 3 5 7 \n",
            "8 6 4 2 \n",
            "7 5 3 1 \n"
          ]
        }
      ]
    }
  ]
}