{
  "nbformat": 4,
  "nbformat_minor": 0,
  "metadata": {
    "colab": {
      "provenance": [],
      "authorship_tag": "ABX9TyOxUZ8dqIFpCYpOVf6+EOQB",
      "include_colab_link": true
    },
    "kernelspec": {
      "name": "python3",
      "display_name": "Python 3"
    },
    "language_info": {
      "name": "python"
    }
  },
  "cells": [
    {
      "cell_type": "markdown",
      "metadata": {
        "id": "view-in-github",
        "colab_type": "text"
      },
      "source": [
        "<a href=\"https://colab.research.google.com/github/JulianBasilio/58013-Linear-Algebra/blob/main/Prelim_Exam.ipynb\" target=\"_parent\"><img src=\"https://colab.research.google.com/assets/colab-badge.svg\" alt=\"Open In Colab\"/></a>"
      ]
    },
    {
      "cell_type": "code",
      "execution_count": null,
      "metadata": {
        "colab": {
          "base_uri": "https://localhost:8080/"
        },
        "id": "xgJS3IpHu3rM",
        "outputId": "aeb5daf6-c6be-4bd7-9961-13b741ec549b"
      },
      "outputs": [
        {
          "output_type": "stream",
          "name": "stdout",
          "text": [
            "[[  1   2   3   4   5   6   7   8   9  10]\n",
            " [  2   4   6   8  10  12  14  16  18  20]\n",
            " [  3   6   9  12  15  18  21  24  27  30]\n",
            " [  4   8  12  16  20  24  28  32  36  40]\n",
            " [  5  10  15  20  25  30  35  40  45  50]\n",
            " [  6  12  18  24  30  36  42  48  54  60]\n",
            " [  7  14  21  28  35  42  49  56  63  70]\n",
            " [  8  16  24  32  40  48  56  64  72  80]\n",
            " [  9  18  27  36  45  54  63  72  81  90]\n",
            " [ 10  20  30  40  50  60  70  80  90 100]]\n"
          ]
        }
      ],
      "source": [
        "### Question 1. (20 points) Create a Multiplication Table/Chart of 1 to 10 using numpy/ python program.\n",
        "import numpy as np\n",
        "OneToTen= np.array([ [1,2,3,4,5,6,7,8,9,10], [2,4,6,8,10,12,14,16,18,20], [3,6,9,12,15,18,21,24,27,30], [4,8,12,16,20,24,28,32,36,40], [5,10,15,20,25,30,35,40,45,50],[6,12,18,24,30,36,42,48,54,60],[7,14,21,28,35,42,49,56,63,70], [8,16,24,32,40,48,56,64,72,80], [9,18,27,36,45,54,63,72,81,90], [10,20,30,40,50,60,70,80,90,100]])\n",
        "print(OneToTen)"
      ]
    },
    {
      "cell_type": "code",
      "source": [
        "### Question 2. (10 points) In relation to Question 1, show a solution that doubles all the values of each element.\n",
        "2*(OneToTen)"
      ],
      "metadata": {
        "colab": {
          "base_uri": "https://localhost:8080/"
        },
        "id": "1m6xNp5evCt8",
        "outputId": "e50d87a4-5b35-49a6-95ce-4591590f77f4"
      },
      "execution_count": null,
      "outputs": [
        {
          "output_type": "execute_result",
          "data": {
            "text/plain": [
              "array([[  2,   4,   6,   8,  10,  12,  14,  16,  18,  20],\n",
              "       [  4,   8,  12,  16,  20,  24,  28,  32,  36,  40],\n",
              "       [  6,  12,  18,  24,  30,  36,  42,  48,  54,  60],\n",
              "       [  8,  16,  24,  32,  40,  48,  56,  64,  72,  80],\n",
              "       [ 10,  20,  30,  40,  50,  60,  70,  80,  90, 100],\n",
              "       [ 12,  24,  36,  48,  60,  72,  84,  96, 108, 120],\n",
              "       [ 14,  28,  42,  56,  70,  84,  98, 112, 126, 140],\n",
              "       [ 16,  32,  48,  64,  80,  96, 112, 128, 144, 160],\n",
              "       [ 18,  36,  54,  72,  90, 108, 126, 144, 162, 180],\n",
              "       [ 20,  40,  60,  80, 100, 120, 140, 160, 180, 200]])"
            ]
          },
          "metadata": {},
          "execution_count": 35
        }
      ]
    },
    {
      "cell_type": "code",
      "source": [
        "### Question 3. (10 points) Create a square matrix that has a diagonal 1's.\n",
        "np.ones([3,3])"
      ],
      "metadata": {
        "colab": {
          "base_uri": "https://localhost:8080/"
        },
        "id": "2agi1dEZvKXL",
        "outputId": "206f17f9-b234-48f3-c645-15a96ca14de7"
      },
      "execution_count": null,
      "outputs": [
        {
          "output_type": "execute_result",
          "data": {
            "text/plain": [
              "array([[1., 1., 1.],\n",
              "       [1., 1., 1.],\n",
              "       [1., 1., 1.]])"
            ]
          },
          "metadata": {},
          "execution_count": 27
        }
      ]
    },
    {
      "cell_type": "code",
      "source": [
        "### Question 4.\n",
        "matrix = np.array([ [1,2,3,4], [5,6,7,8], [9,10,11,12]])\n",
        "print(\"The matrix is: \",matrix)\n",
        "### Type a python program that can view the size, shape, and dimension of the matrix above.\n",
        "print(\"The size of the matrix is:\",np.size(matrix))\n",
        "print(\"The shape of the matrix is:\",np.shape(matrix))\n",
        "print(\"The dimension of the matrix is:\",np.ndim(matrix))"
      ],
      "metadata": {
        "colab": {
          "base_uri": "https://localhost:8080/"
        },
        "id": "z63QJ_FYvPzL",
        "outputId": "aa4aa06b-83e9-4ace-a834-cd4617cd3ee1"
      },
      "execution_count": null,
      "outputs": [
        {
          "output_type": "stream",
          "name": "stdout",
          "text": [
            "The matrix is:  [[ 1  2  3  4]\n",
            " [ 5  6  7  8]\n",
            " [ 9 10 11 12]]\n",
            "The size of the matrix is: 12\n",
            "The shape of the matrix is: (3, 4)\n",
            "The dimension of the matrix is: 2\n"
          ]
        }
      ]
    },
    {
      "cell_type": "code",
      "source": [
        "### Question 5.\n",
        "import numpy\n",
        "arrayOne= numpy.array([ [5,6,9], [21,18,27]])\n",
        "arrayTwo= numpy.array([ [15,23,24], [4,7,1]])\n",
        "arrayOnepTwo= numpy.add(arrayOne,arrayTwo)\n",
        "print(\"The sum of two arrays are: \",arrayOnepTwo)\n",
        "#square each element\n",
        "arrayOnesq= numpy.square(arrayOne)\n",
        "arrayTwosq= numpy.square(arrayTwo)\n",
        "arrayOneTwosq= numpy.add(arrayOnesq,arrayTwosq)\n",
        "print(\"The sum of two squared arrays are: \",arrayOneTwosq)"
      ],
      "metadata": {
        "colab": {
          "base_uri": "https://localhost:8080/"
        },
        "id": "JBghGT47vXib",
        "outputId": "3b36171a-ab4a-4828-c0fb-2632edaf5aa7"
      },
      "execution_count": null,
      "outputs": [
        {
          "output_type": "stream",
          "name": "stdout",
          "text": [
            "The sum of two arrays are:  [[20 29 33]\n",
            " [25 25 28]]\n",
            "The sum of two squared arrays are:  [[250 565 657]\n",
            " [457 373 730]]\n"
          ]
        }
      ]
    }
  ]
}