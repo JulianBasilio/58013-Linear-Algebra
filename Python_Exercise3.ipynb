{
  "nbformat": 4,
  "nbformat_minor": 0,
  "metadata": {
    "colab": {
      "provenance": [],
      "authorship_tag": "ABX9TyM1XGK92CdUuEjCi71YrZlV",
      "include_colab_link": true
    },
    "kernelspec": {
      "name": "python3",
      "display_name": "Python 3"
    },
    "language_info": {
      "name": "python"
    }
  },
  "cells": [
    {
      "cell_type": "markdown",
      "metadata": {
        "id": "view-in-github",
        "colab_type": "text"
      },
      "source": [
        "<a href=\"https://colab.research.google.com/github/JulianBasilio/58013-Linear-Algebra/blob/main/Python_Exercise3.ipynb\" target=\"_parent\"><img src=\"https://colab.research.google.com/assets/colab-badge.svg\" alt=\"Open In Colab\"/></a>"
      ]
    },
    {
      "cell_type": "markdown",
      "source": [
        "Vector Operations"
      ],
      "metadata": {
        "id": "cXiS6qESuoEc"
      }
    },
    {
      "cell_type": "code",
      "execution_count": 2,
      "metadata": {
        "colab": {
          "base_uri": "https://localhost:8080/"
        },
        "id": "PAAsUaPYucZs",
        "outputId": "7ae6fe29-7318-4732-95ec-a31f0fb0ba37"
      },
      "outputs": [
        {
          "output_type": "execute_result",
          "data": {
            "text/plain": [
              "2"
            ]
          },
          "metadata": {},
          "execution_count": 2
        }
      ],
      "source": [
        "import numpy as np\n",
        "### Vector Addition\n",
        "A = np.array([1,2,0])\n",
        "B = np.array([3,1,-2])\n",
        "C = np.array([0,0,1])\n",
        "\n",
        "A+B+C\n",
        "\n",
        "np.add(A,np.add(B,C))\n",
        "\n",
        "np.sum(B)\n"
      ]
    },
    {
      "cell_type": "code",
      "source": [
        "###Vector Subtraction\n",
        "np.subtract(A,B)\n",
        "\n",
        "A-B\n"
      ],
      "metadata": {
        "colab": {
          "base_uri": "https://localhost:8080/"
        },
        "id": "zKgG24luvDIi",
        "outputId": "32f78692-ad02-4194-bd61-e82b2d32b7bb"
      },
      "execution_count": 3,
      "outputs": [
        {
          "output_type": "execute_result",
          "data": {
            "text/plain": [
              "array([-2,  1,  2])"
            ]
          },
          "metadata": {},
          "execution_count": 3
        }
      ]
    },
    {
      "cell_type": "code",
      "source": [
        "###Vector Multiplication\n",
        "np.multiply(A,B)\n",
        "\n",
        "A*B\n"
      ],
      "metadata": {
        "colab": {
          "base_uri": "https://localhost:8080/"
        },
        "id": "vA1xP2vnvK10",
        "outputId": "c73272b9-8c02-4a62-cef6-b6c7e01f0f91"
      },
      "execution_count": 4,
      "outputs": [
        {
          "output_type": "execute_result",
          "data": {
            "text/plain": [
              "array([3, 2, 0])"
            ]
          },
          "metadata": {},
          "execution_count": 4
        }
      ]
    },
    {
      "cell_type": "code",
      "source": [
        "###Vector Division\n",
        "np.divide(A,B)\n",
        "\n",
        "A/B\n",
        "\n",
        "C = np.array([3.9,1.8,7.7])\n",
        "D = np.array([1,1,1])\n",
        "C//D\n",
        "\n",
        "np.array(A/B,dtype=int)\n"
      ],
      "metadata": {
        "colab": {
          "base_uri": "https://localhost:8080/"
        },
        "id": "7Dzfpy7uvRg5",
        "outputId": "37f3b3a6-e8b4-478c-a316-4353db01725a"
      },
      "execution_count": 5,
      "outputs": [
        {
          "output_type": "execute_result",
          "data": {
            "text/plain": [
              "array([0, 2, 0])"
            ]
          },
          "metadata": {},
          "execution_count": 5
        }
      ]
    }
  ]
}